{
  "cells": [
    {
      "cell_type": "markdown",
      "metadata": {
        "id": "XcsYRyGYNx_c"
      },
      "source": [
        "# Power Analysis Demonstration\n",
        "\n",
        "@author: Niral and Samanth\n",
        "\n",
        "Adapted from lab 8 of the [Hardware Hacking Handbook Notebooks](https://github.com/HardwareHackingHandbook/notebooks)\n",
        "\n",
        "\n",
        "In this notebook we will demonstrate how Simple Power Analysis can be used to crack RSA encryption. Revealing the secret key."
      ]
    },
    {
      "cell_type": "code",
      "execution_count": null,
      "metadata": {
        "colab": {
          "background_save": true
        },
        "id": "LPVhVvlQNx_d"
      },
      "outputs": [],
      "source": [
        "# Some Basic imports\n",
        "import numpy as np\n",
        "import rsa\n",
        "import random\n",
        "from bokeh.plotting import figure, show\n",
        "from bokeh.io import output_notebook\n",
        "from bokeh.models import Label\n",
        "from itertools import groupby\n",
        "import matplotlib.pyplot as plt\n",
        "\n",
        "# Set the seeds to ensure same results every time\n",
        "np.random.seed(1338)\n",
        "random.seed(1338)"
      ]
    },
    {
      "cell_type": "markdown",
      "metadata": {
        "id": "aZUp7K49fV1F"
      },
      "source": [
        "# Leaky RSA Implementation"
      ]
    },
    {
      "cell_type": "code",
      "execution_count": null,
      "metadata": {
        "id": "p_Vu2V2eNx_f"
      },
      "outputs": [],
      "source": [
        "#Normal Distribution for Multiplication and  mod operation (of the power). This is the mean and std dev\n",
        "TIMING=(10,2.1)\n",
        "\n",
        "#Implementing a leaky version of exponentiation\n",
        "# EVery time a multiply and mod is taken the timer increments.\n",
        "def leaky_exponentiation(secret, message, n):\n",
        "    time = 0\n",
        "    timeleak = [time]\n",
        "    P = 1\n",
        "    i = message\n",
        "\n",
        "    while secret > 0:\n",
        "        # print(secret)\n",
        "        keybit = secret & 1\n",
        "        if keybit:\n",
        "            P = (P * i) % n\n",
        "            time += np.random.normal(TIMING[0], TIMING[1])\n",
        "\n",
        "        i = (i * i ) % n\n",
        "        secret = secret >> 1\n",
        "        time += np.random.normal(TIMING[0], TIMING[1])\n",
        "        timeleak.append(time)\n",
        "    return timeleak, P\n",
        "\n",
        "\n",
        "def leaky_exponentiation_2(secret, message, n):\n",
        "  time = 0\n",
        "  timeleak = [time]\n",
        "  P = 1\n",
        "  s = message\n",
        "  for i in range(secret.bit_length()):\n",
        "    if (i > 0):\n",
        "      s = (s * s) % n\n",
        "      time += np.random.normal(TIMING[0], TIMING[1])\n",
        "    if (secret & 1):\n",
        "      P = (P * s) % n\n",
        "      time += np.random.normal(TIMING[0], TIMING[1])\n",
        "\n",
        "    timeleak.append(time)\n",
        "    secret = secret >> 1\n",
        "\n",
        "\n",
        "\n",
        "#RSA Encryption: enctyped_message = message^pub_exponent mod n\n",
        "def rsa_encrypt(public_exponent, message, n):\n",
        "    return pow(message, public_exponent, n)\n",
        "\n",
        "#RSA Decryption that leaks some information about the private key.\n",
        "# message = enctyped_message ^ private_exponent mod n\n",
        "def rsa_decrypt_leaky(secret, encrypted_message, n):\n",
        "    timeleak, message = leaky_exponentiation(secret, encrypted_message, n)\n",
        "    return timeleak, message\n",
        "\n",
        "\n"
      ]
    },
    {
      "cell_type": "markdown",
      "metadata": {
        "id": "_HlmVuNdff0N"
      },
      "source": [
        " # Testing our RSA Encryption and Key generation\n",
        "\n",
        "\n",
        " In this section we show how to encrypt a message using RSA and decrypt it in code."
      ]
    },
    {
      "cell_type": "code",
      "execution_count": null,
      "metadata": {
        "id": "wMvPw6n3Nx_g"
      },
      "outputs": [],
      "source": [
        "# Testing out the functions\n",
        "\n",
        "# Generating a 256 bit rsa key\n",
        "key_size = 256\n",
        "key = rsa.newkeys(key_size)\n",
        "\n",
        "\n",
        "# Getting the modulus, public and private exponents\n",
        "n = key[0].n\n",
        "public_exponent = key[0].e\n",
        "private_exponent = key[1].d\n",
        "\n",
        "\n",
        "#This is Our Sample Message.\n",
        "message = \"Hello World!\"\n",
        "message_int = int.from_bytes(message.encode('utf-8'), 'big')\n",
        "print(\"Message Represented in bytes: \",bin(message_int))\n",
        "encrypted_message = rsa_encrypt(public_exponent, message_int, n)\n",
        "print(\"Encrytped Message in bytes: \", bin(encrypted_message))\n",
        "\n",
        "timeleak, decrypted_message = rsa_decrypt_leaky(private_exponent, encrypted_message, n)\n",
        "\n",
        "byte_length = (decrypted_message.bit_length() + 7 )// 8\n",
        "print(\"Decrypted Message \", decrypted_message.to_bytes(byte_length, 'big').decode('utf-8'))"
      ]
    },
    {
      "cell_type": "markdown",
      "metadata": {
        "id": "npMaxtD1Nx_g"
      },
      "source": [
        "# Simulating SPA traces of a leaky RSA"
      ]
    },
    {
      "cell_type": "markdown",
      "metadata": {
        "id": "8UkcWIp6fv0I"
      },
      "source": [
        "Here we create a simulated trace using the time leakages. We will use this trace to extract the key later!!!"
      ]
    },
    {
      "cell_type": "code",
      "execution_count": null,
      "metadata": {
        "id": "-hn1VBugNx_i"
      },
      "outputs": [],
      "source": [
        "SAMPLES_PER_LOOP = 10\n",
        "SCOPE_NOISE = 0.05\n",
        "\n",
        "# Take the time leakages, and create a simulated trace\n",
        "def timeleak_to_trace(timeleak, samples_per_loop, scope_noise):\n",
        "    points = len(timeleak)*SAMPLES_PER_LOOP  # Trace length samples\n",
        "    timeleak0 = np.asarray(timeleak) - timeleak[0] # Zero-base time\n",
        "    timeidx = (timeleak0 / timeleak0[-1] * (points-1)).astype(int) # Convert to int indices\n",
        "    trace = np.ones(points) # Set all to power value 1\n",
        "    trace[timeidx] = 0 # Except when switch between operations\n",
        "\n",
        "    # Add measurement noise\n",
        "    trace += np.random.normal(0, scope_noise, len(trace))\n",
        "\n",
        "    return trace, timeleak0"
      ]
    },
    {
      "cell_type": "markdown",
      "metadata": {
        "id": "We-I3ZJ1gvT9"
      },
      "source": [
        "# Getting and Plotting the Trace"
      ]
    },
    {
      "cell_type": "code",
      "execution_count": null,
      "metadata": {
        "id": "rLRQT8EIgyd4"
      },
      "outputs": [],
      "source": [
        "trace, timeleak0 = timeleak_to_trace(timeleak, SAMPLES_PER_LOOP, SCOPE_NOISE)\n",
        "\n",
        "# Plot the trace and try to interpret it yourself"
      ]
    },
    {
      "cell_type": "code",
      "execution_count": null,
      "metadata": {
        "id": "O_GCSZjbNx_i"
      },
      "outputs": [],
      "source": [
        "# Plot a trace\n",
        "# Here is some nice code to plot it along with the true bits.\n",
        "TRIM = 200  # Initial zoom in samples\n",
        "\n",
        "trace, timeleak0 = timeleak_to_trace(timeleak, SAMPLES_PER_LOOP, SCOPE_NOISE)\n",
        "\n",
        "# Plot simulated trace\n",
        "output_notebook()\n",
        "p = figure(x_range=(0,TRIM), x_axis_label='\"Time\"', y_axis_label='\"Volt\"', title=\"RSA Decryption trace with actual private key bits\")\n",
        "\n",
        "p.line(list(range(len(trace))), trace, line_color=\"blue\")\n",
        "\n",
        "# Plot known bits\n",
        "op_idx = timeleak0 / timeleak0[-1] * (len(trace)-1)+0.5\n",
        "for bit in range(len(op_idx)):\n",
        "    p.add_layout(Label(x=op_idx[bit], y=0.8, text=str(private_exponent>>bit&1), text_color=\"red\"))\n",
        "\n",
        "show(p)"
      ]
    },
    {
      "cell_type": "markdown",
      "metadata": {
        "id": "8a0ibeUoNx_i"
      },
      "source": [
        "It is clear that relatively longer times between dips correpond to the bit one\n",
        "while relatively shorter time between dips correspond to the bit zero.\n",
        "Now let us try to use this information to extract the bits of the key from the trace\n",
        "\n",
        "So we convert it to a list of duration between peaks"
      ]
    },
    {
      "cell_type": "code",
      "execution_count": null,
      "metadata": {
        "id": "WpFGA_diNx_j"
      },
      "outputs": [],
      "source": [
        "def trace_to_difftime(trace):\n",
        "  # Conver the trace to binary using a particular threshold, give the lengths of each peak as well\n",
        "  # trace_rle: durations between each peaks\n",
        "  # trace binary: 1 when above threshold, zero when below\n",
        "  # threshold: The threshold below which we set zero and above we set one. (What should we set it to?)\n",
        "  trace_rle = []\n",
        "  trace_bin = []\n",
        "  threshold = 0\n",
        "\n",
        "  # YOUR CODE HERE\n",
        "\n",
        "  return trace_rle, trace_bin, threshold"
      ]
    },
    {
      "cell_type": "code",
      "execution_count": null,
      "metadata": {
        "id": "f4owi_fkNx_k"
      },
      "outputs": [],
      "source": [
        "# Let's plot the binary trace, threshold, and distances between peaks\n",
        "trace_rle, trace_bin, threshold = trace_to_difftime(trace)\n",
        "\n",
        "# Init figure\n",
        "output_notebook()\n",
        "p = figure(x_range=(0,TRIM), x_axis_label='\"Time\"', y_axis_label='\"Binary\"', title=\"RSA decryption binary trace with peak distances at given threshold\")\n",
        "\n",
        "# Binary trace\n",
        "p.line(list(range(len(trace))), trace_bin, line_color=\"blue\")\n",
        "\n",
        "# Threshold line\n",
        "p.line([0, len(trace)], [threshold,threshold], line_width=4, color='black', line_dash='dashed')\n",
        "\n",
        "# Plot distances\n",
        "for idx in range(len(trace_rle)):\n",
        "    p.add_layout(Label(x=op_idx[idx], y=0.8, text=str(trace_rle[idx]), text_color=\"green\"))\n",
        "\n",
        "show(p)"
      ]
    },
    {
      "cell_type": "code",
      "execution_count": null,
      "metadata": {
        "id": "fb3C25aJNx_k"
      },
      "outputs": [],
      "source": [
        "# This performs the Simple Power Analysis by turning given traces into peak distances,\n",
        "# and in turn turning these distances into bits of guessed nonce k.\n",
        "def simple_power_analysis(trace):\n",
        "  # Analyse the trace return the following things:\n",
        "  closest = [] # Array of the indices of the bits closest to the threshold (most doubtful)\n",
        "  gussed_k_base = 0 # Integer of the guess\n",
        "  difftime, _, _ = trace_to_difftime(trace)\n",
        "  cutoff = 0 # The cutoff for time (above which bit is one and blow which bit is set to zero)\n",
        "  # This is the heart of this attack\n",
        "\n",
        "  # YOUR CODE HERE\n",
        "\n",
        "  return closest, guessed_k_base, difftime, cutoff"
      ]
    },
    {
      "cell_type": "code",
      "execution_count": null,
      "metadata": {
        "id": "aah4OhPjNx_k"
      },
      "outputs": [],
      "source": [
        "# Create a power-like trace\n",
        "_, _, difftime, cutoff = simple_power_analysis(trace)"
      ]
    },
    {
      "cell_type": "code",
      "execution_count": null,
      "metadata": {
        "id": "C7nGEq1gNx_k"
      },
      "outputs": [],
      "source": [
        "# Let's have a look at the two distributions of time for double only or double+add\n",
        "BINS=7 # Number of bins per histogram\n",
        "\n",
        "bitactual = np.asarray([int(private_exponent & (1<<x) > 0) for x in range(0,len(difftime))]) # Turn k into bit vector\n",
        "\n",
        "# Plot two histograms and cutoff\n",
        "output_notebook()\n",
        "p = figure(x_axis_label=\"Duration\", y_axis_label=\"Count\", title=\"Distributions for Double vs Double+Add, shown with cutoff\")\n",
        "\n",
        "# Calc histograms for bits 0 and 1\n",
        "hist_0,edges_0 = np.histogram(difftime[bitactual==0], bins=BINS)\n",
        "hist_1,edges_1 = np.histogram(difftime[bitactual==1], bins=BINS)\n",
        "\n",
        "# Plot histograms\n",
        "p.quad(top=hist_0,bottom=0,left=edges_0[:-1],right=edges_0[1:],fill_color='red',line_color='black', fill_alpha=0.5)\n",
        "p.quad(top=hist_1,bottom=0,left=edges_1[:-1],right=edges_1[1:],fill_color='blue',line_color='black', fill_alpha=0.5)\n",
        "\n",
        "# Add cutoff as vertical line\n",
        "p.line([cutoff, cutoff], [0,np.max([hist_0, hist_1])], line_width=4, color='black', line_dash='dashed')\n",
        "\n",
        "show(p)"
      ]
    },
    {
      "cell_type": "code",
      "execution_count": null,
      "metadata": {
        "id": "aceteVK5Nx_l"
      },
      "outputs": [],
      "source": [
        "\n",
        "# Since we have some overlapping distributions, we'll have bit errors we'll need to bruteforce\n",
        "# This function does a bruteforce of the bits closest to the decision boundary\n",
        "\n",
        "\n",
        "def bruteforce(bits, guessed_private_exponent_base, closest, encrypted_message, n, private_exponent):\n",
        "    # Take the bits closest bits, considering each possible configuration of flipping them.\n",
        "    # Flip them and check if the key is correct (using the given private exponent, in practice you would do it by decrypting the message and looking at it), Return the correct key if found.\n",
        "\n",
        "    # Guessed_Private_exponent_base: The guess made by the threshold\n",
        "    # closest: Indices of the bits closest to threshold (most doubtful)\n",
        "    # n, private_exponent, encrypted_message: from RSA\n",
        "    # bits: No of bits to bruteforce\n",
        "\n",
        "    # YOUR CODE HERE\n",
        "    for i in range(2**bits):\n",
        "      gussed_pe = guessed_private_exponent_base\n",
        "      for j in range(bits):\n",
        "        if (i & (1 << j)):\n",
        "          gussed_pe = gussed_pe ^ (1 << closest[j])\n",
        "      if gussed_pe == private_exponent:\n",
        "        print(\"Found key \", bin(gussed_pe))\n",
        "\n",
        "\n",
        "\n",
        "    ##"
      ]
    },
    {
      "cell_type": "code",
      "execution_count": null,
      "metadata": {
        "id": "xNYDK_DgNx_l"
      },
      "outputs": [],
      "source": [
        "MAX_ATTEMPTS = 200\n",
        "BRUTEFORCE_BITS = 10\n",
        "\n",
        "\n",
        "for attempt in range(MAX_ATTEMPTS):\n",
        "    print(\"\\n\\n Attempt\", attempt)\n",
        "\n",
        "    # Perform a leaky rsa encryption and decryption\n",
        "    # Testing out the functions\n",
        "    message = \"Hello World!\"\n",
        "    message_int = int.from_bytes(message.encode('utf-8'), 'big')\n",
        "    encrypted_message = rsa_encrypt(public_exponent, message_int, n)\n",
        "    timeleak, decrypted_message = rsa_decrypt_leaky(private_exponent, encrypted_message, n)\n",
        "    byte_length = (decrypted_message.bit_length() + 7 )// 8\n",
        "    print(decrypted_message.to_bytes(byte_length, 'big').decode('utf-8'))\n",
        "\n",
        "    trace, _ = timeleak_to_trace(timeleak, SAMPLES_PER_LOOP, SCOPE_NOISE)\n",
        "    closest, guessed_k_base, difftime, cutoff = simple_power_analysis(trace)\n",
        "    print(\"Guessed k: \", bin(guessed_k_base))\n",
        "    key = bruteforce(BRUTEFORCE_BITS, guessed_k_base, closest, encrypted_message, n, private_exponent)\n",
        "\n",
        "    if key == private_exponent:\n",
        "        print(\"Yes, Key Found: \", bin(key))\n",
        "        break"
      ]
    }
  ],
  "metadata": {
    "colab": {
      "provenance": []
    },
    "kernelspec": {
      "display_name": "Python 3",
      "language": "python",
      "name": "python3"
    },
    "language_info": {
      "codemirror_mode": {
        "name": "ipython",
        "version": 3
      },
      "file_extension": ".py",
      "mimetype": "text/x-python",
      "name": "python",
      "nbconvert_exporter": "python",
      "pygments_lexer": "ipython3",
      "version": "3.10.12"
    }
  },
  "nbformat": 4,
  "nbformat_minor": 0
}